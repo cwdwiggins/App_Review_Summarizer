{
 "cells": [
  {
   "cell_type": "code",
   "execution_count": 5,
   "id": "fd243f5d",
   "metadata": {},
   "outputs": [
    {
     "name": "stderr",
     "output_type": "stream",
     "text": [
      "2024-11-20 13:37:47,414 [INFO] Base - Initialised: AppStore('us', 'yelp-food-delivery-reviews', 284910350)\n",
      "2024-11-20 13:37:47,414 [INFO] Base - Ready to fetch reviews from: https://apps.apple.com/us/app/yelp-food-delivery-reviews/id284910350\n",
      "2024-11-20 13:37:52,623 [INFO] Base - [id:284910350] Fetched 220 reviews (220 fetched in total)\n",
      "2024-11-20 13:37:58,275 [INFO] Base - [id:284910350] Fetched 460 reviews (460 fetched in total)\n",
      "2024-11-20 13:38:03,823 [INFO] Base - [id:284910350] Fetched 700 reviews (700 fetched in total)\n",
      "2024-11-20 13:38:09,361 [INFO] Base - [id:284910350] Fetched 920 reviews (920 fetched in total)\n",
      "2024-11-20 13:38:15,355 [INFO] Base - [id:284910350] Fetched 1140 reviews (1140 fetched in total)\n",
      "2024-11-20 13:38:21,384 [INFO] Base - [id:284910350] Fetched 1360 reviews (1360 fetched in total)\n",
      "2024-11-20 13:38:27,484 [INFO] Base - [id:284910350] Fetched 1580 reviews (1580 fetched in total)\n",
      "2024-11-20 13:38:33,536 [INFO] Base - [id:284910350] Fetched 1800 reviews (1800 fetched in total)\n",
      "2024-11-20 13:38:39,140 [INFO] Base - [id:284910350] Fetched 1960 reviews (1960 fetched in total)\n",
      "2024-11-20 13:38:44,825 [INFO] Base - [id:284910350] Fetched 2160 reviews (2160 fetched in total)\n",
      "2024-11-20 13:38:50,979 [INFO] Base - [id:284910350] Fetched 2380 reviews (2380 fetched in total)\n",
      "2024-11-20 13:38:57,064 [INFO] Base - [id:284910350] Fetched 2600 reviews (2600 fetched in total)\n",
      "2024-11-20 13:39:02,717 [INFO] Base - [id:284910350] Fetched 2800 reviews (2800 fetched in total)\n",
      "2024-11-20 13:39:21,854 [ERROR] Base - Something went wrong: HTTPSConnectionPool(host='amp-api.apps.apple.com', port=443): Max retries exceeded with url: /v1/catalog/us/apps/284910350/reviews?l=en-GB&offset=2820&limit=20&platform=web&additionalPlatforms=appletv%2Cipad%2Ciphone%2Cmac (Caused by ResponseError('too many 429 error responses'))\n",
      "2024-11-20 13:39:21,861 [INFO] Base - [id:284910350] Fetched 2820 reviews (2820 fetched in total)\n"
     ]
    }
   ],
   "source": [
    "from app_store_scraper import AppStore\n",
    "\n",
    "import pandas as pd\n",
    "import numpy as np\n",
    "import json\n",
    "\n",
    "app = AppStore(country='us', app_name='yelp-food-delivery-reviews', app_id = '284910350')\n",
    "app.review(how_many=5000)\n",
    "\n",
    "df = pd.DataFrame(np.array(app.reviews),columns=['review'])\n",
    "\n",
    "df2 = df.join(pd.DataFrame(df.pop('review').tolist()))\n",
    "df2.head()\n",
    "\n",
    "df2.to_csv('yelp_reviews.csv')"
   ]
  }
 ],
 "metadata": {
  "kernelspec": {
   "display_name": "Python 3 (ipykernel)",
   "language": "python",
   "name": "python3"
  },
  "language_info": {
   "codemirror_mode": {
    "name": "ipython",
    "version": 3
   },
   "file_extension": ".py",
   "mimetype": "text/x-python",
   "name": "python",
   "nbconvert_exporter": "python",
   "pygments_lexer": "ipython3",
   "version": "3.9.19"
  }
 },
 "nbformat": 4,
 "nbformat_minor": 5
}
