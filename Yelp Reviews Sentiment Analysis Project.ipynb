{
 "cells": [
  {
   "cell_type": "markdown",
   "id": "a7e85016",
   "metadata": {},
   "source": [
    "### Ingestion"
   ]
  },
  {
   "cell_type": "code",
   "execution_count": 5,
   "id": "a7b526c8",
   "metadata": {},
   "outputs": [],
   "source": [
    "import pandas as pd\n",
    "import matplotlib.pyplot as plt\n",
    "import seaborn as sns\n",
    "import numpy as np"
   ]
  },
  {
   "cell_type": "code",
   "execution_count": 6,
   "id": "fcbce10a",
   "metadata": {},
   "outputs": [],
   "source": [
    "reviews = pd.read_csv('yelp_reviews.csv')\n",
    "reviews.drop('Unnamed: 0', axis = 1, inplace = True)"
   ]
  },
  {
   "cell_type": "code",
   "execution_count": 7,
   "id": "a5033bfd",
   "metadata": {},
   "outputs": [
    {
     "data": {
      "text/html": [
       "<div>\n",
       "<style scoped>\n",
       "    .dataframe tbody tr th:only-of-type {\n",
       "        vertical-align: middle;\n",
       "    }\n",
       "\n",
       "    .dataframe tbody tr th {\n",
       "        vertical-align: top;\n",
       "    }\n",
       "\n",
       "    .dataframe thead th {\n",
       "        text-align: right;\n",
       "    }\n",
       "</style>\n",
       "<table border=\"1\" class=\"dataframe\">\n",
       "  <thead>\n",
       "    <tr style=\"text-align: right;\">\n",
       "      <th></th>\n",
       "      <th>date</th>\n",
       "      <th>review</th>\n",
       "      <th>rating</th>\n",
       "      <th>isEdited</th>\n",
       "      <th>userName</th>\n",
       "      <th>title</th>\n",
       "      <th>developerResponse</th>\n",
       "    </tr>\n",
       "  </thead>\n",
       "  <tbody>\n",
       "    <tr>\n",
       "      <th>0</th>\n",
       "      <td>2024-11-16 17:12:47</td>\n",
       "      <td>let me tell you why I named this and encouragi...</td>\n",
       "      <td>5</td>\n",
       "      <td>False</td>\n",
       "      <td>Salonroxie</td>\n",
       "      <td>Encouraging App</td>\n",
       "      <td>NaN</td>\n",
       "    </tr>\n",
       "    <tr>\n",
       "      <th>1</th>\n",
       "      <td>2024-11-13 19:31:04</td>\n",
       "      <td>I vaguely remember yelp being a positive exper...</td>\n",
       "      <td>1</td>\n",
       "      <td>False</td>\n",
       "      <td>S_Mosher</td>\n",
       "      <td>Unreliable Dishonest Shady….  Let’s Cancel Yelp!</td>\n",
       "      <td>NaN</td>\n",
       "    </tr>\n",
       "    <tr>\n",
       "      <th>2</th>\n",
       "      <td>2024-10-11 18:43:56</td>\n",
       "      <td>I will not be using Yelp ever again. After a t...</td>\n",
       "      <td>1</td>\n",
       "      <td>False</td>\n",
       "      <td>jennausuwiajdneka</td>\n",
       "      <td>Horrible</td>\n",
       "      <td>NaN</td>\n",
       "    </tr>\n",
       "    <tr>\n",
       "      <th>3</th>\n",
       "      <td>2024-09-22 20:35:32</td>\n",
       "      <td>During think tank meetings with other business...</td>\n",
       "      <td>1</td>\n",
       "      <td>False</td>\n",
       "      <td>Srepman</td>\n",
       "      <td>Is yelp fair?</td>\n",
       "      <td>{'id': 46973211, 'body': 'Thank you for taking...</td>\n",
       "    </tr>\n",
       "    <tr>\n",
       "      <th>4</th>\n",
       "      <td>2024-10-24 17:15:35</td>\n",
       "      <td>Brought my 2023 car, with 15,454 miles, to hav...</td>\n",
       "      <td>1</td>\n",
       "      <td>False</td>\n",
       "      <td>Livid Sr Citizen</td>\n",
       "      <td>Discount Tire - Plymouth, MN</td>\n",
       "      <td>NaN</td>\n",
       "    </tr>\n",
       "  </tbody>\n",
       "</table>\n",
       "</div>"
      ],
      "text/plain": [
       "                  date                                             review  \\\n",
       "0  2024-11-16 17:12:47  let me tell you why I named this and encouragi...   \n",
       "1  2024-11-13 19:31:04  I vaguely remember yelp being a positive exper...   \n",
       "2  2024-10-11 18:43:56  I will not be using Yelp ever again. After a t...   \n",
       "3  2024-09-22 20:35:32  During think tank meetings with other business...   \n",
       "4  2024-10-24 17:15:35  Brought my 2023 car, with 15,454 miles, to hav...   \n",
       "\n",
       "   rating  isEdited           userName  \\\n",
       "0       5     False         Salonroxie   \n",
       "1       1     False           S_Mosher   \n",
       "2       1     False  jennausuwiajdneka   \n",
       "3       1     False            Srepman   \n",
       "4       1     False   Livid Sr Citizen   \n",
       "\n",
       "                                              title  \\\n",
       "0                                   Encouraging App   \n",
       "1  Unreliable Dishonest Shady….  Let’s Cancel Yelp!   \n",
       "2                                          Horrible   \n",
       "3                                     Is yelp fair?   \n",
       "4                      Discount Tire - Plymouth, MN   \n",
       "\n",
       "                                   developerResponse  \n",
       "0                                                NaN  \n",
       "1                                                NaN  \n",
       "2                                                NaN  \n",
       "3  {'id': 46973211, 'body': 'Thank you for taking...  \n",
       "4                                                NaN  "
      ]
     },
     "execution_count": 7,
     "metadata": {},
     "output_type": "execute_result"
    }
   ],
   "source": [
    "reviews.head(5)"
   ]
  },
  {
   "cell_type": "code",
   "execution_count": 8,
   "id": "1c091675",
   "metadata": {},
   "outputs": [
    {
     "data": {
      "image/png": "[encoded data removed]",
      "text/plain": [
       "<Figure size 640x480 with 1 Axes>"
      ]
     },
     "metadata": {},
     "output_type": "display_data"
    }
   ],
   "source": [
    "rating_agg = reviews.groupby('rating')['rating'].agg('count')\n",
    "\n",
    "plt.bar(rating_agg.index, rating_agg.values, color = 'blue')\n",
    "plt.title('Distribution of reviews')\n",
    "plt.xlabel('Stars')\n",
    "plt.ylabel('Count')\n",
    "plt.show()"
   ]
  },
  {
   "cell_type": "markdown",
   "id": "0a0ca5ce",
   "metadata": {},
   "source": [
    "### Preprocessing"
   ]
  },
  {
   "cell_type": "markdown",
   "id": "e566c84f",
   "metadata": {},
   "source": [
    "Change to correct data types"
   ]
  },
  {
   "cell_type": "code",
   "execution_count": 9,
   "id": "13690a31",
   "metadata": {},
   "outputs": [],
   "source": [
    "reviews['review'] = reviews['review'].astype('string')\n",
    "reviews['title'] = reviews['title'].astype('string')"
   ]
  },
  {
   "cell_type": "markdown",
   "id": "f34970b1",
   "metadata": {},
   "source": [
    "Import relevant libraries from NLTK"
   ]
  },
  {
   "cell_type": "code",
   "execution_count": 10,
   "id": "09e7a641",
   "metadata": {},
   "outputs": [],
   "source": [
    "from nltk.tokenize import word_tokenize\n",
    "from nltk.corpus import stopwords"
   ]
  },
  {
   "cell_type": "markdown",
   "id": "f3d611c4",
   "metadata": {},
   "source": [
    "Tokenization"
   ]
  },
  {
   "cell_type": "code",
   "execution_count": 11,
   "id": "e772eeaf",
   "metadata": {},
   "outputs": [
    {
     "name": "stdout",
     "output_type": "stream",
     "text": [
      "['let', 'me', 'tell', 'you', 'why', 'I', 'named', 'this', 'and', 'encouraging', 'app', '.', 'I', 'am', 'at', 'that', 'age', 'that', 'people', 'overlook', '.', 'I', 'am', 'the', 'new', 'invisible', 'person', 'in', 'the', 'room', '.', 'When', 'I', 'began', 'doing', 'these', 'reviews', 'because', 'I', 'felt', 'like', 'I', 'am', 'a', 'pretty', 'even', 'keeled', 'honest', 'person', 'and', 'would', 'give', 'an', 'accurate', 'description', '.', 'It', 'kind', 'of', 'became', 'life-changing', '.', 'This', 'comes', 'with', 'the', 'responsibility', 'that', 'I', 'identify', 'with', '.', 'And', 'I', 'really', 'needed', 'that', 'right', 'now', 'I', 'feel', 'on', 'this', 'app', 'people', 'are', 'seeing', 'me', 'and', 'hearing', 'me', ',', 'and', 'appreciating', 'my', 'input', '.', 'So', 'not', 'only', 'am', 'I', 'giving', 'an', 'honest', 'representation', 'of', 'how', 'I', 'see', 'these', 'restaurants', 'but', 'I', '’', 'm', 'also', 'giving', 'acknowledgment', 'which', 'is', 'something', 'I', 'didn', '’', 't', 'realize', 'how', 'badly', 'I', 'needed', '.', 'It', '’', 's', 'been', 'a', 'win-win', 'so', 'when', 'you', 'read', 'my', 'reviews', ',', 'please', 'know', 'how', 'much', 'I', 'appreciate', 'this', 'appand', 'how', 'responsible', 'I', 'am', 'in', 'my', 'opinions', 'and', 'reviews', '.', 'I', 'give', 'every', 'place', 'I', 'go', 'to', 'a', 'second', 'chance', ',', 'and', 'this', 'app', 'gave', 'me', 'mine', '.']\n"
     ]
    }
   ],
   "source": [
    "tokens = word_tokenize(reviews['review'][0])\n",
    "print(tokens)"
   ]
  },
  {
   "cell_type": "markdown",
   "id": "a683d125",
   "metadata": {},
   "source": [
    "Removing stop words"
   ]
  },
  {
   "cell_type": "code",
   "execution_count": 12,
   "id": "654a8a1e",
   "metadata": {
    "scrolled": false
   },
   "outputs": [
    {
     "name": "stdout",
     "output_type": "stream",
     "text": [
      "['let', 'tell', 'I', 'named', 'encouraging', 'app', '.', 'I', 'age', 'people', 'overlook', '.', 'I', 'new', 'invisible', 'person', 'room', '.', 'When', 'I', 'began', 'reviews', 'I', 'felt', 'like', 'I', 'pretty', 'even', 'keeled', 'honest', 'person', 'would', 'give', 'accurate', 'description', '.', 'It', 'kind', 'became', 'life-changing', '.', 'This', 'comes', 'responsibility', 'I', 'identify', '.', 'And', 'I', 'really', 'needed', 'right', 'I', 'feel', 'app', 'people', 'seeing', 'hearing', ',', 'appreciating', 'input', '.', 'So', 'I', 'giving', 'honest', 'representation', 'I', 'see', 'restaurants', 'I', '’', 'also', 'giving', 'acknowledgment', 'something', 'I', '’', 'realize', 'badly', 'I', 'needed', '.', 'It', '’', 'win-win', 'read', 'reviews', ',', 'please', 'know', 'much', 'I', 'appreciate', 'appand', 'responsible', 'I', 'opinions', 'reviews', '.', 'I', 'give', 'every', 'place', 'I', 'go', 'second', 'chance', ',', 'app', 'gave', 'mine', '.']\n"
     ]
    }
   ],
   "source": [
    "stop_words = stopwords.words('english')\n",
    "\n",
    "def remove_stop_words(variable):\n",
    "    if variable not in stop_words:\n",
    "        return True\n",
    "    else:\n",
    "        return False\n",
    "\n",
    "filtered_tokens = filter(remove_stop_words, tokens)\n",
    "filtered_tokens = list(filtered_tokens)\n",
    "print(filtered_tokens)"
   ]
  },
  {
   "cell_type": "markdown",
   "id": "f4fd44b3",
   "metadata": {},
   "source": [
    "Normalization\n",
    "- lowercasing characters\n",
    "- handling negations\n",
    "- removing punctuations (just keeping alphabetical words)\n"
   ]
  },
  {
   "cell_type": "markdown",
   "id": "e4626424",
   "metadata": {},
   "source": [
    "Lowercase characters"
   ]
  },
  {
   "cell_type": "code",
   "execution_count": 13,
   "id": "3d4ebba4",
   "metadata": {},
   "outputs": [
    {
     "name": "stdout",
     "output_type": "stream",
     "text": [
      "['let', 'tell', 'i', 'named', 'encouraging', 'app', '.', 'i', 'age', 'people', 'overlook', '.', 'i', 'new', 'invisible', 'person', 'room', '.', 'when', 'i', 'began', 'reviews', 'i', 'felt', 'like', 'i', 'pretty', 'even', 'keeled', 'honest', 'person', 'would', 'give', 'accurate', 'description', '.', 'it', 'kind', 'became', 'life-changing', '.', 'this', 'comes', 'responsibility', 'i', 'identify', '.', 'and', 'i', 'really', 'needed', 'right', 'i', 'feel', 'app', 'people', 'seeing', 'hearing', ',', 'appreciating', 'input', '.', 'so', 'i', 'giving', 'honest', 'representation', 'i', 'see', 'restaurants', 'i', '’', 'also', 'giving', 'acknowledgment', 'something', 'i', '’', 'realize', 'badly', 'i', 'needed', '.', 'it', '’', 'win-win', 'read', 'reviews', ',', 'please', 'know', 'much', 'i', 'appreciate', 'appand', 'responsible', 'i', 'opinions', 'reviews', '.', 'i', 'give', 'every', 'place', 'i', 'go', 'second', 'chance', ',', 'app', 'gave', 'mine', '.']\n"
     ]
    }
   ],
   "source": [
    "lower_filtered_tokens = \" \".join(filtered_tokens).lower().split(\" \")\n",
    "print(lower_filtered_tokens)"
   ]
  },
  {
   "cell_type": "markdown",
   "id": "c8b27aff",
   "metadata": {},
   "source": [
    "Handling chat words"
   ]
  },
  {
   "cell_type": "code",
   "execution_count": 14,
   "id": "95038e5e",
   "metadata": {},
   "outputs": [
    {
     "name": "stdout",
     "output_type": "stream",
     "text": [
      "i vaguely remember yelp being a positive experience, it’s been many many years since that, at this point. it is absolutely infuriating that i cannot read yelp reviews in a browser!  ridiculous that i need to have the yelp app installed on my phone to access reviews. don’t get me wrong, i’ve installed, and used the yelp app numerous times on multiple devices and it’s always one of the first apps i uninstall when i need to clean up a device as it serves exactly no purpose. when attempting to review a review in yelp, it’s not possible without the app. whether i’m using google or chrome or safari, it doesn’t matter, it’s impossible to read a single review in its entirety. which is beyond dumb! however, when i’m automatically bumped into the app store as a means to bully and force me into installing the yelp app once again, i remember that yelp itself is a scam and the epitome of a dishonest, manipulative and, shady business!! which is the only thing about yelp that i appreciate!! why, because i instantly see one star review after 1 star review, from the endless array of us that are over the questionable business tactics that is the basis of yelp’s shady business model. the deletion of reviews by yelp for whatever reason is unethical, a not uncommon practice of yelp and has been for several years now.\n",
      "\n",
      "thank goodness cancel culture is a thing, i cannot wait to watch yelp go up in smoke! because, it is going to happen!\n"
     ]
    }
   ],
   "source": [
    "print(reviews['review'][1].lower())"
   ]
  },
  {
   "cell_type": "code",
   "execution_count": 15,
   "id": "8b96c1b4",
   "metadata": {
    "scrolled": true
   },
   "outputs": [
    {
     "name": "stdout",
     "output_type": "stream",
     "text": [
      "i vaguely remember yelp being a positive experience, it’s been many many years since that, at this point. it is absolutely infuriating that i cannot read yelp reviews in a browser!  ridiculous that i need to have the yelp app installed on my phone to access reviews. don’t get me wrong, i’ve installed, and used the yelp app numerous times on multiple devices and it’s always one of the first apps i uninstall when i need to clean up a device as it serves exactly no purpose. when attempting to review a review in yelp, it’s not possible without the app. whether i’m using google or chrome or safari, it doesn’t matter, it’s impossible to read a single review in its entirety. which is beyond dumb! however, when i’m automatically bumped into the app store as a means to bully and force me into installing the yelp app once again, i remember that yelp itself is a scam and the epitome of a dishonest, manipulative and, shady business!! which is the only thing about yelp that i appreciate!! why, because i instantly see one star review after 1 star review, from the endless array of us that are over the questionable business tactics that is the basis of yelp’s shady business model. the deletion of reviews by yelp for whatever reason is unethical, a not uncommon practice of yelp and has been for several years now.\n",
      "\n",
      "thank goodness cancel culture is a thing, i cannot wait to watch yelp go up in smoke! because, it is going to happen!\n"
     ]
    }
   ],
   "source": [
    "slang_file = open('slang.txt')\n",
    "slang = slang_file.read()\n",
    "slang_file.close()\n",
    "slang_list = slang.split(\"\\n\")\n",
    "del slang_list[-1]\n",
    "\n",
    "def abbrev_def_split(x):\n",
    "    x = x.replace('=', '`')\n",
    "    x = x.replace(': ', '`')\n",
    "    x = x.replace(' â€“ ', '`')\n",
    "    x = x.replace('â€™', '’')\n",
    "    x = x.replace('\\t', '`')\n",
    "    x = x.lower()\n",
    "    return tuple(x.split('`'))\n",
    "\n",
    "slang_def_dict = dict(map(abbrev_def_split, slang_list))\n",
    "\n",
    "review_1 = reviews['review'][1].lower().split(\" \")\n",
    "review_1 = [slang_def_dict[word] if word in slang_def_dict else word for word in review_1]\n",
    "review_1 = \" \".join(review_1)\n",
    "print(review_1)"
   ]
  },
  {
   "cell_type": "markdown",
   "id": "da50464f",
   "metadata": {},
   "source": [
    "Negation handling/handling contractions"
   ]
  },
  {
   "cell_type": "code",
   "execution_count": 16,
   "id": "94e5dd2d",
   "metadata": {},
   "outputs": [
    {
     "name": "stdout",
     "output_type": "stream",
     "text": [
      "i vaguely remember yelp being a positive experience, it has been many many years since that, at this point. it is absolutely infuriating that i cannot read yelp reviews in a browser!  ridiculous that i need to have the yelp app installed on my phone to access reviews. do not get me wrong, i have installed, and used the yelp app numerous times on multiple devices and it has always one of the first apps i uninstall when i need to clean up a device as it serves exactly no purpose. when attempting to review a review in yelp, it has not possible without the app. whether i am using google or chrome or safari, it does not matter, it has impossible to read a single review in its entirety. which is beyond dumb! however, when i am automatically bumped into the app store as a means to bully and force me into installing the yelp app once again, i remember that yelp itself is a scam and the epitome of a dishonest, manipulative and, shady business!! which is the only thing about yelp that i appreciate!! why, because i instantly see one star review after 1 star review, from the endless array of us that are over the questionable business tactics that is the basis of yelp’s shady business model. the deletion of reviews by yelp for whatever reason is unethical, a not uncommon practice of yelp and has been for several years now.\n",
      "\n",
      "thank goodness cancel culture is a thing, i cannot wait to watch yelp go up in smoke! because, it is going to happen!\n"
     ]
    }
   ],
   "source": [
    "import re\n",
    "\n",
    "# Create lookup dictionary of contractions from excel table created from wikipedia page\n",
    "contractions = pd.read_excel('contractions.xlsx', dtype = {'contraction': 'string', 'meaning': 'string'})\n",
    "\n",
    "contractions['contraction'] = contractions['contraction'].apply(lambda x: x.replace('(informal)', ''))\n",
    "contractions['meaning'] = contractions['meaning'].apply(lambda x: re.sub(r\"\\s/\\s(.*)\", \"\", x))\n",
    "contractions['contraction'] = contractions['contraction'].apply(lambda x: x.lower())\n",
    "contractions['contraction'] = contractions['contraction'].apply(lambda x: x.replace(\"'\", \"’\"))\n",
    "contractions['meaning'] = contractions['meaning'].apply(lambda x: x.lower())\n",
    "\n",
    "keys = list(contractions.contraction)\n",
    "values = list(contractions.meaning)\n",
    "contraction_dict = dict(zip(keys, values))\n",
    "\n",
    "review_1 = review_1.split(' ')\n",
    "review_1 = [contraction_dict[word] if word in contraction_dict else word for word in review_1]\n",
    "review_1 = \" \".join(review_1)\n",
    "print(review_1)"
   ]
  },
  {
   "cell_type": "markdown",
   "id": "ffd72dc5",
   "metadata": {},
   "source": [
    "Remove punctuation"
   ]
  },
  {
   "cell_type": "code",
   "execution_count": 17,
   "id": "f7813701",
   "metadata": {},
   "outputs": [],
   "source": [
    "review_1 = word_tokenize(review_1)\n",
    "review_1 = [word for word in review_1 if word.isalpha()]\n",
    "review_1 = \" \".join(review_1)"
   ]
  },
  {
   "cell_type": "code",
   "execution_count": 18,
   "id": "ac62422e",
   "metadata": {},
   "outputs": [
    {
     "name": "stdout",
     "output_type": "stream",
     "text": [
      "i vaguely remember yelp being a positive experience it has been many many years since that at this point it is absolutely infuriating that i can not read yelp reviews in a browser ridiculous that i need to have the yelp app installed on my phone to access reviews do not get me wrong i have installed and used the yelp app numerous times on multiple devices and it has always one of the first apps i uninstall when i need to clean up a device as it serves exactly no purpose when attempting to review a review in yelp it has not possible without the app whether i am using google or chrome or safari it does not matter it has impossible to read a single review in its entirety which is beyond dumb however when i am automatically bumped into the app store as a means to bully and force me into installing the yelp app once again i remember that yelp itself is a scam and the epitome of a dishonest manipulative and shady business which is the only thing about yelp that i appreciate why because i instantly see one star review after star review from the endless array of us that are over the questionable business tactics that is the basis of yelp s shady business model the deletion of reviews by yelp for whatever reason is unethical a not uncommon practice of yelp and has been for several years now thank goodness cancel culture is a thing i can not wait to watch yelp go up in smoke because it is going to happen\n"
     ]
    }
   ],
   "source": [
    "print(review_1)"
   ]
  },
  {
   "cell_type": "markdown",
   "id": "2d1bd6d7",
   "metadata": {},
   "source": [
    "Lemmatize words"
   ]
  },
  {
   "cell_type": "code",
   "execution_count": 19,
   "id": "a870e72a",
   "metadata": {},
   "outputs": [],
   "source": [
    "import spacy"
   ]
  },
  {
   "cell_type": "code",
   "execution_count": 21,
   "id": "dafbbe21",
   "metadata": {},
   "outputs": [
    {
     "name": "stdout",
     "output_type": "stream",
     "text": [
      "['i/PRON', 'vaguely/ADV', 'remember/VERB', 'yelp/NOUN', 'being/AUX', 'a/DET', 'positive/ADJ', 'experience/NOUN', 'it/PRON', 'has/AUX', 'been/AUX', 'many/ADJ', 'many/ADJ', 'years/NOUN', 'since/SCONJ', 'that/PRON', 'at/ADP', 'this/DET', 'point/NOUN', 'it/PRON', 'is/AUX', 'absolutely/ADV', 'infuriating/VERB', 'that/SCONJ', 'i/PRON', 'can/AUX', 'not/PART', 'read/VERB', 'yelp/NOUN', 'reviews/NOUN', 'in/ADP', 'a/DET', 'browser/NOUN', 'ridiculous/NOUN', 'that/SCONJ', 'i/PRON', 'need/VERB', 'to/PART', 'have/VERB', 'the/DET', 'yelp/NOUN', 'app/NOUN', 'installed/VERB', 'on/ADP', 'my/PRON', 'phone/NOUN', 'to/PART', 'access/NOUN', 'reviews/NOUN', 'do/AUX', 'not/PART', 'get/VERB', 'me/PRON', 'wrong/ADJ', 'i/PRON', 'have/AUX', 'installed/VERB', 'and/CCONJ', 'used/VERB', 'the/DET', 'yelp/NOUN', 'app/NOUN', 'numerous/ADJ', 'times/NOUN', 'on/ADP', 'multiple/ADJ', 'devices/NOUN', 'and/CCONJ', 'it/PRON', 'has/VERB', 'always/ADV', 'one/NUM', 'of/ADP', 'the/DET', 'first/ADJ', 'apps/NOUN', 'i/PRON', 'uninstall/VERB', 'when/SCONJ', 'i/PRON', 'need/VERB', 'to/PART', 'clean/VERB', 'up/ADP', 'a/DET', 'device/NOUN', 'as/SCONJ', 'it/PRON', 'serves/VERB', 'exactly/ADV', 'no/DET', 'purpose/NOUN', 'when/SCONJ', 'attempting/VERB', 'to/PART', 'review/VERB', 'a/DET', 'review/NOUN', 'in/ADP', 'yelp/NOUN', 'it/PRON', 'has/VERB', 'not/PART', 'possible/ADJ', 'without/ADP', 'the/DET', 'app/NOUN', 'whether/SCONJ', 'i/PRON', 'am/AUX', 'using/VERB', 'google/NOUN', 'or/CCONJ', 'chrome/NOUN', 'or/CCONJ', 'safari/PROPN', 'it/PRON', 'does/AUX', 'not/PART', 'matter/VERB', 'it/PRON', 'has/VERB', 'impossible/ADJ', 'to/PART', 'read/VERB', 'a/DET', 'single/ADJ', 'review/NOUN', 'in/ADP', 'its/PRON', 'entirety/NOUN', 'which/PRON', 'is/AUX', 'beyond/ADP', 'dumb/NOUN', 'however/ADV', 'when/SCONJ', 'i/PRON', 'am/AUX', 'automatically/ADV', 'bumped/VERB', 'into/ADP', 'the/DET', 'app/NOUN', 'store/NOUN', 'as/ADP', 'a/DET', 'means/NOUN', 'to/PART', 'bully/NOUN', 'and/CCONJ', 'force/VERB', 'me/PRON', 'into/ADP', 'installing/VERB', 'the/DET', 'yelp/NOUN', 'app/NOUN', 'once/ADV', 'again/ADV', 'i/PRON', 'remember/VERB', 'that/SCONJ', 'yelp/NOUN', 'itself/PRON', 'is/AUX', 'a/DET', 'scam/NOUN', 'and/CCONJ', 'the/DET', 'epitome/NOUN', 'of/ADP', 'a/DET', 'dishonest/ADJ', 'manipulative/ADJ', 'and/CCONJ', 'shady/ADJ', 'business/NOUN', 'which/PRON', 'is/AUX', 'the/DET', 'only/ADJ', 'thing/NOUN', 'about/ADP', 'yelp/NOUN', 'that/SCONJ', 'i/PRON', 'appreciate/VERB', 'why/SCONJ', 'because/SCONJ', 'i/PRON', 'instantly/ADV', 'see/VERB', 'one/NUM', 'star/NOUN', 'review/NOUN', 'after/SCONJ', 'star/PROPN', 'review/NOUN', 'from/ADP', 'the/DET', 'endless/ADJ', 'array/NOUN', 'of/ADP', 'us/PRON', 'that/PRON', 'are/AUX', 'over/ADP', 'the/DET', 'questionable/ADJ', 'business/NOUN', 'tactics/NOUN', 'that/PRON', 'is/AUX', 'the/DET', 'basis/NOUN', 'of/ADP', 'yelp/NOUN', 's/PART', 'shady/ADJ', 'business/NOUN', 'model/NOUN', 'the/DET', 'deletion/NOUN', 'of/ADP', 'reviews/NOUN', 'by/ADP', 'yelp/NOUN', 'for/ADP', 'whatever/DET', 'reason/NOUN', 'is/AUX', 'unethical/ADJ', 'a/DET', 'not/PART', 'uncommon/ADJ', 'practice/NOUN', 'of/ADP', 'yelp/NOUN', 'and/CCONJ', 'has/AUX', 'been/AUX', 'for/ADP', 'several/ADJ', 'years/NOUN', 'now/ADV', 'thank/VERB', 'goodness/NOUN', 'cancel/NOUN', 'culture/NOUN', 'is/AUX', 'a/DET', 'thing/NOUN', 'i/PRON', 'can/AUX', 'not/PART', 'wait/VERB', 'to/PART', 'watch/VERB', 'yelp/NOUN', 'go/VERB', 'up/ADP', 'in/ADP', 'smoke/NOUN', 'because/SCONJ', 'it/PRON', 'is/AUX', 'going/VERB', 'to/PART', 'happen/VERB']\n"
     ]
    }
   ],
   "source": [
    "nlp = spacy.load('en_core_web_sm')\n",
    "doc = nlp(review_1)\n",
    "\n",
    "review_1_lemm = [f'{token.text}/{token.pos_}' for token in doc]\n",
    "print(review_1_lemm)"
   ]
  },
  {
   "cell_type": "markdown",
   "id": "03f1a888",
   "metadata": {},
   "source": [
    "### One Cleaning Function"
   ]
  },
  {
   "cell_type": "markdown",
   "id": "e960232c",
   "metadata": {},
   "source": [
    "Define one cleaning function using the code from earlier to create separate columns that have the words only, the parts of speech (POS) only, and the words and parts of speech tokenized together. This will help analyze things like word usage frequency, while also having a column (the tokenized word with the POS) that will be useful to the machine learning model."
   ]
  },
  {
   "cell_type": "code",
   "execution_count": 42,
   "id": "158415a0",
   "metadata": {},
   "outputs": [
    {
     "data": {
      "text/html": [
       "<div>\n",
       "<style scoped>\n",
       "    .dataframe tbody tr th:only-of-type {\n",
       "        vertical-align: middle;\n",
       "    }\n",
       "\n",
       "    .dataframe tbody tr th {\n",
       "        vertical-align: top;\n",
       "    }\n",
       "\n",
       "    .dataframe thead th {\n",
       "        text-align: right;\n",
       "    }\n",
       "</style>\n",
       "<table border=\"1\" class=\"dataframe\">\n",
       "  <thead>\n",
       "    <tr style=\"text-align: right;\">\n",
       "      <th></th>\n",
       "      <th>date</th>\n",
       "      <th>review</th>\n",
       "      <th>rating</th>\n",
       "      <th>title</th>\n",
       "    </tr>\n",
       "  </thead>\n",
       "  <tbody>\n",
       "    <tr>\n",
       "      <th>0</th>\n",
       "      <td>2024-11-16 17:12:47</td>\n",
       "      <td>let me tell you why I named this and encouragi...</td>\n",
       "      <td>5</td>\n",
       "      <td>Encouraging App</td>\n",
       "    </tr>\n",
       "    <tr>\n",
       "      <th>1</th>\n",
       "      <td>2024-11-13 19:31:04</td>\n",
       "      <td>I vaguely remember yelp being a positive exper...</td>\n",
       "      <td>1</td>\n",
       "      <td>Unreliable Dishonest Shady….  Let’s Cancel Yelp!</td>\n",
       "    </tr>\n",
       "    <tr>\n",
       "      <th>2</th>\n",
       "      <td>2024-10-11 18:43:56</td>\n",
       "      <td>I will not be using Yelp ever again. After a t...</td>\n",
       "      <td>1</td>\n",
       "      <td>Horrible</td>\n",
       "    </tr>\n",
       "    <tr>\n",
       "      <th>3</th>\n",
       "      <td>2024-09-22 20:35:32</td>\n",
       "      <td>During think tank meetings with other business...</td>\n",
       "      <td>1</td>\n",
       "      <td>Is yelp fair?</td>\n",
       "    </tr>\n",
       "    <tr>\n",
       "      <th>4</th>\n",
       "      <td>2024-10-24 17:15:35</td>\n",
       "      <td>Brought my 2023 car, with 15,454 miles, to hav...</td>\n",
       "      <td>1</td>\n",
       "      <td>Discount Tire - Plymouth, MN</td>\n",
       "    </tr>\n",
       "  </tbody>\n",
       "</table>\n",
       "</div>"
      ],
      "text/plain": [
       "                  date                                             review  \\\n",
       "0  2024-11-16 17:12:47  let me tell you why I named this and encouragi...   \n",
       "1  2024-11-13 19:31:04  I vaguely remember yelp being a positive exper...   \n",
       "2  2024-10-11 18:43:56  I will not be using Yelp ever again. After a t...   \n",
       "3  2024-09-22 20:35:32  During think tank meetings with other business...   \n",
       "4  2024-10-24 17:15:35  Brought my 2023 car, with 15,454 miles, to hav...   \n",
       "\n",
       "   rating                                             title  \n",
       "0       5                                   Encouraging App  \n",
       "1       1  Unreliable Dishonest Shady….  Let’s Cancel Yelp!  \n",
       "2       1                                          Horrible  \n",
       "3       1                                     Is yelp fair?  \n",
       "4       1                      Discount Tire - Plymouth, MN  "
      ]
     },
     "execution_count": 42,
     "metadata": {},
     "output_type": "execute_result"
    }
   ],
   "source": [
    "# Create new dataframe\n",
    "\n",
    "reviews_prep = reviews.copy()\n",
    "reviews_prep = reviews_prep.drop(['isEdited', 'userName', 'developerResponse'], axis = 1)\n",
    "reviews_prep.head(5)"
   ]
  },
  {
   "cell_type": "code",
   "execution_count": 43,
   "id": "ea0482e2",
   "metadata": {},
   "outputs": [
    {
     "data": {
      "text/html": [
       "<div>\n",
       "<style scoped>\n",
       "    .dataframe tbody tr th:only-of-type {\n",
       "        vertical-align: middle;\n",
       "    }\n",
       "\n",
       "    .dataframe tbody tr th {\n",
       "        vertical-align: top;\n",
       "    }\n",
       "\n",
       "    .dataframe thead th {\n",
       "        text-align: right;\n",
       "    }\n",
       "</style>\n",
       "<table border=\"1\" class=\"dataframe\">\n",
       "  <thead>\n",
       "    <tr style=\"text-align: right;\">\n",
       "      <th></th>\n",
       "      <th>date</th>\n",
       "      <th>review</th>\n",
       "      <th>rating</th>\n",
       "      <th>title</th>\n",
       "      <th>review_prepped</th>\n",
       "      <th>title_prepped</th>\n",
       "    </tr>\n",
       "  </thead>\n",
       "  <tbody>\n",
       "    <tr>\n",
       "      <th>0</th>\n",
       "      <td>2024-11-16 17:12:47</td>\n",
       "      <td>let me tell you why I named this and encouragi...</td>\n",
       "      <td>5</td>\n",
       "      <td>Encouraging App</td>\n",
       "      <td>[let/VERB, me/PRON, tell/VERB, you/PRON, why/S...</td>\n",
       "      <td>[encouraging/VERB, app/NOUN]</td>\n",
       "    </tr>\n",
       "    <tr>\n",
       "      <th>1</th>\n",
       "      <td>2024-11-13 19:31:04</td>\n",
       "      <td>I vaguely remember yelp being a positive exper...</td>\n",
       "      <td>1</td>\n",
       "      <td>Unreliable Dishonest Shady….  Let’s Cancel Yelp!</td>\n",
       "      <td>[i/PRON, vaguely/ADV, remember/VERB, yelp/NOUN...</td>\n",
       "      <td>[unreliable/ADJ, dishonest/INTJ, let/VERB, us/...</td>\n",
       "    </tr>\n",
       "    <tr>\n",
       "      <th>2</th>\n",
       "      <td>2024-10-11 18:43:56</td>\n",
       "      <td>I will not be using Yelp ever again. After a t...</td>\n",
       "      <td>1</td>\n",
       "      <td>Horrible</td>\n",
       "      <td>[i/PRON, will/AUX, not/PART, be/AUX, using/VER...</td>\n",
       "      <td>[horrible/ADJ]</td>\n",
       "    </tr>\n",
       "    <tr>\n",
       "      <th>3</th>\n",
       "      <td>2024-09-22 20:35:32</td>\n",
       "      <td>During think tank meetings with other business...</td>\n",
       "      <td>1</td>\n",
       "      <td>Is yelp fair?</td>\n",
       "      <td>[during/ADP, think/NOUN, tank/NOUN, meetings/N...</td>\n",
       "      <td>[is/AUX, yelp/NOUN, fair/ADJ]</td>\n",
       "    </tr>\n",
       "    <tr>\n",
       "      <th>4</th>\n",
       "      <td>2024-10-24 17:15:35</td>\n",
       "      <td>Brought my 2023 car, with 15,454 miles, to hav...</td>\n",
       "      <td>1</td>\n",
       "      <td>Discount Tire - Plymouth, MN</td>\n",
       "      <td>[brought/VERB, my/PRON, car/NOUN, with/ADP, mi...</td>\n",
       "      <td>[discount/NOUN, tire/NOUN, plymouth/PROPN, mn/...</td>\n",
       "    </tr>\n",
       "  </tbody>\n",
       "</table>\n",
       "</div>"
      ],
      "text/plain": [
       "                  date                                             review  \\\n",
       "0  2024-11-16 17:12:47  let me tell you why I named this and encouragi...   \n",
       "1  2024-11-13 19:31:04  I vaguely remember yelp being a positive exper...   \n",
       "2  2024-10-11 18:43:56  I will not be using Yelp ever again. After a t...   \n",
       "3  2024-09-22 20:35:32  During think tank meetings with other business...   \n",
       "4  2024-10-24 17:15:35  Brought my 2023 car, with 15,454 miles, to hav...   \n",
       "\n",
       "   rating                                             title  \\\n",
       "0       5                                   Encouraging App   \n",
       "1       1  Unreliable Dishonest Shady….  Let’s Cancel Yelp!   \n",
       "2       1                                          Horrible   \n",
       "3       1                                     Is yelp fair?   \n",
       "4       1                      Discount Tire - Plymouth, MN   \n",
       "\n",
       "                                      review_prepped  \\\n",
       "0  [let/VERB, me/PRON, tell/VERB, you/PRON, why/S...   \n",
       "1  [i/PRON, vaguely/ADV, remember/VERB, yelp/NOUN...   \n",
       "2  [i/PRON, will/AUX, not/PART, be/AUX, using/VER...   \n",
       "3  [during/ADP, think/NOUN, tank/NOUN, meetings/N...   \n",
       "4  [brought/VERB, my/PRON, car/NOUN, with/ADP, mi...   \n",
       "\n",
       "                                       title_prepped  \n",
       "0                       [encouraging/VERB, app/NOUN]  \n",
       "1  [unreliable/ADJ, dishonest/INTJ, let/VERB, us/...  \n",
       "2                                     [horrible/ADJ]  \n",
       "3                      [is/AUX, yelp/NOUN, fair/ADJ]  \n",
       "4  [discount/NOUN, tire/NOUN, plymouth/PROPN, mn/...  "
      ]
     },
     "execution_count": 43,
     "metadata": {},
     "output_type": "execute_result"
    }
   ],
   "source": [
    "# Preprocessing function\n",
    "\n",
    "def preprocessingFunction(text):\n",
    "    # Lowercase\n",
    "    text = text.lower()\n",
    "    \n",
    "    # Handling chat words\n",
    "    text = text.split(\" \")\n",
    "    text = [slang_def_dict[word] if word in slang_def_dict else word for word in text]\n",
    "    text = \" \".join(text)\n",
    "    \n",
    "    # Handling contractions\n",
    "    text = text.split(\" \")\n",
    "    text = [contraction_dict[word] if word in contraction_dict else word for word in text]\n",
    "    text = \" \".join(text)\n",
    "    \n",
    "    # Remove punctuation\n",
    "    text = word_tokenize(text)\n",
    "    text = [word for word in text if word.isalpha()]\n",
    "    text = \" \".join(text)\n",
    "    \n",
    "    # Lemmentization with Spacy\n",
    "    doc = nlp(text)\n",
    "    output = [f'{token.text}/{token.pos_}' for token in doc]\n",
    "    \n",
    "    return output\n",
    "\n",
    "reviews_prep['review_prepped'] = reviews_prep['review'].apply(preprocessingFunction)\n",
    "reviews_prep['title_prepped'] = reviews_prep['title'].apply(preprocessingFunction)\n",
    "reviews_prep.head(5)"
   ]
  },
  {
   "cell_type": "code",
   "execution_count": 44,
   "id": "2846e142",
   "metadata": {},
   "outputs": [
    {
     "data": {
      "text/html": [
       "<div>\n",
       "<style scoped>\n",
       "    .dataframe tbody tr th:only-of-type {\n",
       "        vertical-align: middle;\n",
       "    }\n",
       "\n",
       "    .dataframe tbody tr th {\n",
       "        vertical-align: top;\n",
       "    }\n",
       "\n",
       "    .dataframe thead th {\n",
       "        text-align: right;\n",
       "    }\n",
       "</style>\n",
       "<table border=\"1\" class=\"dataframe\">\n",
       "  <thead>\n",
       "    <tr style=\"text-align: right;\">\n",
       "      <th></th>\n",
       "      <th>date</th>\n",
       "      <th>review</th>\n",
       "      <th>rating</th>\n",
       "      <th>title</th>\n",
       "      <th>review_prepped</th>\n",
       "      <th>title_prepped</th>\n",
       "      <th>review_tokens</th>\n",
       "      <th>review_POSes</th>\n",
       "      <th>title_tokens</th>\n",
       "      <th>title_POSes</th>\n",
       "    </tr>\n",
       "  </thead>\n",
       "  <tbody>\n",
       "    <tr>\n",
       "      <th>0</th>\n",
       "      <td>2024-11-16 17:12:47</td>\n",
       "      <td>let me tell you why I named this and encouragi...</td>\n",
       "      <td>5</td>\n",
       "      <td>Encouraging App</td>\n",
       "      <td>[let/VERB, me/PRON, tell/VERB, you/PRON, why/S...</td>\n",
       "      <td>[encouraging/VERB, app/NOUN]</td>\n",
       "      <td>let me tell you why i named this and encouragi...</td>\n",
       "      <td>VERB PRON VERB PRON SCONJ PRON VERB PRON CCONJ...</td>\n",
       "      <td>encouraging app</td>\n",
       "      <td>VERB NOUN</td>\n",
       "    </tr>\n",
       "    <tr>\n",
       "      <th>1</th>\n",
       "      <td>2024-11-13 19:31:04</td>\n",
       "      <td>I vaguely remember yelp being a positive exper...</td>\n",
       "      <td>1</td>\n",
       "      <td>Unreliable Dishonest Shady….  Let’s Cancel Yelp!</td>\n",
       "      <td>[i/PRON, vaguely/ADV, remember/VERB, yelp/NOUN...</td>\n",
       "      <td>[unreliable/ADJ, dishonest/INTJ, let/VERB, us/...</td>\n",
       "      <td>i vaguely remember yelp being a positive exper...</td>\n",
       "      <td>PRON ADV VERB NOUN AUX DET ADJ NOUN PRON AUX A...</td>\n",
       "      <td>unreliable dishonest let us cancel yelp</td>\n",
       "      <td>ADJ INTJ VERB PRON VERB NOUN</td>\n",
       "    </tr>\n",
       "    <tr>\n",
       "      <th>2</th>\n",
       "      <td>2024-10-11 18:43:56</td>\n",
       "      <td>I will not be using Yelp ever again. After a t...</td>\n",
       "      <td>1</td>\n",
       "      <td>Horrible</td>\n",
       "      <td>[i/PRON, will/AUX, not/PART, be/AUX, using/VER...</td>\n",
       "      <td>[horrible/ADJ]</td>\n",
       "      <td>i will not be using yelp ever again after a te...</td>\n",
       "      <td>PRON AUX PART AUX VERB NOUN ADV ADV ADP DET AD...</td>\n",
       "      <td>horrible</td>\n",
       "      <td>ADJ</td>\n",
       "    </tr>\n",
       "    <tr>\n",
       "      <th>3</th>\n",
       "      <td>2024-09-22 20:35:32</td>\n",
       "      <td>During think tank meetings with other business...</td>\n",
       "      <td>1</td>\n",
       "      <td>Is yelp fair?</td>\n",
       "      <td>[during/ADP, think/NOUN, tank/NOUN, meetings/N...</td>\n",
       "      <td>[is/AUX, yelp/NOUN, fair/ADJ]</td>\n",
       "      <td>during think tank meetings with other business...</td>\n",
       "      <td>ADP NOUN NOUN NOUN ADP ADJ NOUN NOUN ADP PRON ...</td>\n",
       "      <td>is yelp fair</td>\n",
       "      <td>AUX NOUN ADJ</td>\n",
       "    </tr>\n",
       "    <tr>\n",
       "      <th>4</th>\n",
       "      <td>2024-10-24 17:15:35</td>\n",
       "      <td>Brought my 2023 car, with 15,454 miles, to hav...</td>\n",
       "      <td>1</td>\n",
       "      <td>Discount Tire - Plymouth, MN</td>\n",
       "      <td>[brought/VERB, my/PRON, car/NOUN, with/ADP, mi...</td>\n",
       "      <td>[discount/NOUN, tire/NOUN, plymouth/PROPN, mn/...</td>\n",
       "      <td>brought my car with miles to have my snow tire...</td>\n",
       "      <td>VERB PRON NOUN ADP NOUN PART VERB PRON NOUN NO...</td>\n",
       "      <td>discount tire plymouth mn</td>\n",
       "      <td>NOUN NOUN PROPN NOUN</td>\n",
       "    </tr>\n",
       "  </tbody>\n",
       "</table>\n",
       "</div>"
      ],
      "text/plain": [
       "                  date                                             review  \\\n",
       "0  2024-11-16 17:12:47  let me tell you why I named this and encouragi...   \n",
       "1  2024-11-13 19:31:04  I vaguely remember yelp being a positive exper...   \n",
       "2  2024-10-11 18:43:56  I will not be using Yelp ever again. After a t...   \n",
       "3  2024-09-22 20:35:32  During think tank meetings with other business...   \n",
       "4  2024-10-24 17:15:35  Brought my 2023 car, with 15,454 miles, to hav...   \n",
       "\n",
       "   rating                                             title  \\\n",
       "0       5                                   Encouraging App   \n",
       "1       1  Unreliable Dishonest Shady….  Let’s Cancel Yelp!   \n",
       "2       1                                          Horrible   \n",
       "3       1                                     Is yelp fair?   \n",
       "4       1                      Discount Tire - Plymouth, MN   \n",
       "\n",
       "                                      review_prepped  \\\n",
       "0  [let/VERB, me/PRON, tell/VERB, you/PRON, why/S...   \n",
       "1  [i/PRON, vaguely/ADV, remember/VERB, yelp/NOUN...   \n",
       "2  [i/PRON, will/AUX, not/PART, be/AUX, using/VER...   \n",
       "3  [during/ADP, think/NOUN, tank/NOUN, meetings/N...   \n",
       "4  [brought/VERB, my/PRON, car/NOUN, with/ADP, mi...   \n",
       "\n",
       "                                       title_prepped  \\\n",
       "0                       [encouraging/VERB, app/NOUN]   \n",
       "1  [unreliable/ADJ, dishonest/INTJ, let/VERB, us/...   \n",
       "2                                     [horrible/ADJ]   \n",
       "3                      [is/AUX, yelp/NOUN, fair/ADJ]   \n",
       "4  [discount/NOUN, tire/NOUN, plymouth/PROPN, mn/...   \n",
       "\n",
       "                                       review_tokens  \\\n",
       "0  let me tell you why i named this and encouragi...   \n",
       "1  i vaguely remember yelp being a positive exper...   \n",
       "2  i will not be using yelp ever again after a te...   \n",
       "3  during think tank meetings with other business...   \n",
       "4  brought my car with miles to have my snow tire...   \n",
       "\n",
       "                                        review_POSes  \\\n",
       "0  VERB PRON VERB PRON SCONJ PRON VERB PRON CCONJ...   \n",
       "1  PRON ADV VERB NOUN AUX DET ADJ NOUN PRON AUX A...   \n",
       "2  PRON AUX PART AUX VERB NOUN ADV ADV ADP DET AD...   \n",
       "3  ADP NOUN NOUN NOUN ADP ADJ NOUN NOUN ADP PRON ...   \n",
       "4  VERB PRON NOUN ADP NOUN PART VERB PRON NOUN NO...   \n",
       "\n",
       "                              title_tokens                   title_POSes  \n",
       "0                          encouraging app                     VERB NOUN  \n",
       "1  unreliable dishonest let us cancel yelp  ADJ INTJ VERB PRON VERB NOUN  \n",
       "2                                 horrible                           ADJ  \n",
       "3                             is yelp fair                  AUX NOUN ADJ  \n",
       "4                discount tire plymouth mn          NOUN NOUN PROPN NOUN  "
      ]
     },
     "execution_count": 44,
     "metadata": {},
     "output_type": "execute_result"
    }
   ],
   "source": [
    "# Functions to split the word/POS pairs into separate columns\n",
    "\n",
    "def createTokenCol(preppedText):\n",
    "    tokenPOSPairs = [tokenPosPair.split(\"/\") for tokenPosPair in preppedText]\n",
    "    tokens = [tokenPosPairSplit[0] for tokenPosPairSplit in tokenPOSPairs]\n",
    "    tokens = ' '.join(tokens)\n",
    "    \n",
    "    return tokens\n",
    "\n",
    "def createPOSCol(preppedText):\n",
    "    tokenPOSPairs = [tokenPosPair.split(\"/\") for tokenPosPair in preppedText]\n",
    "    POSes = [tokenPosPairSplit[1] for tokenPosPairSplit in tokenPOSPairs]\n",
    "    POSes = ' '.join(POSes)\n",
    "    \n",
    "    return POSes\n",
    "\n",
    "reviews_prep['review_tokens'] = reviews_prep['review_prepped'].apply(createTokenCol)\n",
    "reviews_prep['review_POSes'] = reviews_prep['review_prepped'].apply(createPOSCol)\n",
    "reviews_prep['title_tokens'] = reviews_prep['title_prepped'].apply(createTokenCol)\n",
    "reviews_prep['title_POSes'] = reviews_prep['title_prepped'].apply(createPOSCol)\n",
    "\n",
    "reviews_prep.head(5)"
   ]
  },
  {
   "cell_type": "markdown",
   "id": "4894028b",
   "metadata": {},
   "source": [
    "**Save to a csv**"
   ]
  },
  {
   "cell_type": "code",
   "execution_count": 46,
   "id": "22b72e08",
   "metadata": {},
   "outputs": [],
   "source": [
    "reviews_prep.to_csv('reviews_prep.csv')"
   ]
  }
 ],
 "metadata": {
  "kernelspec": {
   "display_name": "Python 3 (ipykernel)",
   "language": "python",
   "name": "python3"
  },
  "language_info": {
   "codemirror_mode": {
    "name": "ipython",
    "version": 3
   },
   "file_extension": ".py",
   "mimetype": "text/x-python",
   "name": "python",
   "nbconvert_exporter": "python",
   "pygments_lexer": "ipython3",
   "version": "3.9.19"
  }
 },
 "nbformat": 4,
 "nbformat_minor": 5
}
