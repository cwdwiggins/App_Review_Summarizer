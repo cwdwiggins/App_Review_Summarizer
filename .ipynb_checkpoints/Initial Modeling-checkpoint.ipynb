{
 "cells": [
  {
   "cell_type": "markdown",
   "id": "81eaff8e",
   "metadata": {},
   "source": [
    "## Yelp NLP Project Initial Modeling"
   ]
  },
  {
   "cell_type": "markdown",
   "id": "6773631d",
   "metadata": {},
   "source": [
    "Will implement a random forest classifier to try and classify/characterize the number of stars for each review on the Yelp review dataset based on the current features"
   ]
  },
  {
   "cell_type": "code",
   "execution_count": 1,
   "id": "e3d66155",
   "metadata": {
    "scrolled": false
   },
   "outputs": [],
   "source": [
    "# Data handling and visualization\n",
    "import numpy as np\n",
    "import pandas as pd\n",
    "import matplotlib.pyplot as plt\n",
    "\n",
    "# Modeling\n",
    "from sklearn.model_selection import train_test_split\n",
    "from sklearn.ensemble import RandomForestClassifier\n",
    "from sklearn.metrics import classification_report \n",
    "from sklearn.metrics import confusion_matrix, ConfusionMatrixDisplay"
   ]
  },
  {
   "cell_type": "code",
   "execution_count": 2,
   "id": "5f2f52f6",
   "metadata": {},
   "outputs": [
    {
     "data": {
      "text/html": [
       "<div>\n",
       "<style scoped>\n",
       "    .dataframe tbody tr th:only-of-type {\n",
       "        vertical-align: middle;\n",
       "    }\n",
       "\n",
       "    .dataframe tbody tr th {\n",
       "        vertical-align: top;\n",
       "    }\n",
       "\n",
       "    .dataframe thead th {\n",
       "        text-align: right;\n",
       "    }\n",
       "</style>\n",
       "<table border=\"1\" class=\"dataframe\">\n",
       "  <thead>\n",
       "    <tr style=\"text-align: right;\">\n",
       "      <th></th>\n",
       "      <th>date</th>\n",
       "      <th>review</th>\n",
       "      <th>rating</th>\n",
       "      <th>title</th>\n",
       "      <th>review_prepped</th>\n",
       "      <th>title_prepped</th>\n",
       "      <th>review_tokens</th>\n",
       "      <th>review_POSes</th>\n",
       "      <th>title_tokens</th>\n",
       "      <th>title_POSes</th>\n",
       "    </tr>\n",
       "  </thead>\n",
       "  <tbody>\n",
       "    <tr>\n",
       "      <th>0</th>\n",
       "      <td>2024-11-16 17:12:47</td>\n",
       "      <td>let me tell you why I named this and encouragi...</td>\n",
       "      <td>5</td>\n",
       "      <td>Encouraging App</td>\n",
       "      <td>['let/VERB', 'me/PRON', 'tell/VERB', 'you/PRON...</td>\n",
       "      <td>['encouraging/VERB', 'app/NOUN']</td>\n",
       "      <td>let me tell you why i named this and encouragi...</td>\n",
       "      <td>VERB PRON VERB PRON SCONJ PRON VERB PRON CCONJ...</td>\n",
       "      <td>encouraging app</td>\n",
       "      <td>VERB NOUN</td>\n",
       "    </tr>\n",
       "    <tr>\n",
       "      <th>1</th>\n",
       "      <td>2024-11-13 19:31:04</td>\n",
       "      <td>I vaguely remember yelp being a positive exper...</td>\n",
       "      <td>1</td>\n",
       "      <td>Unreliable Dishonest Shady….  Let’s Cancel Yelp!</td>\n",
       "      <td>['i/PRON', 'vaguely/ADV', 'remember/VERB', 'ye...</td>\n",
       "      <td>['unreliable/ADJ', 'dishonest/INTJ', 'let/VERB...</td>\n",
       "      <td>i vaguely remember yelp being a positive exper...</td>\n",
       "      <td>PRON ADV VERB NOUN AUX DET ADJ NOUN PRON AUX A...</td>\n",
       "      <td>unreliable dishonest let us cancel yelp</td>\n",
       "      <td>ADJ INTJ VERB PRON VERB NOUN</td>\n",
       "    </tr>\n",
       "    <tr>\n",
       "      <th>2</th>\n",
       "      <td>2024-10-11 18:43:56</td>\n",
       "      <td>I will not be using Yelp ever again. After a t...</td>\n",
       "      <td>1</td>\n",
       "      <td>Horrible</td>\n",
       "      <td>['i/PRON', 'will/AUX', 'not/PART', 'be/AUX', '...</td>\n",
       "      <td>['horrible/ADJ']</td>\n",
       "      <td>i will not be using yelp ever again after a te...</td>\n",
       "      <td>PRON AUX PART AUX VERB NOUN ADV ADV ADP DET AD...</td>\n",
       "      <td>horrible</td>\n",
       "      <td>ADJ</td>\n",
       "    </tr>\n",
       "    <tr>\n",
       "      <th>3</th>\n",
       "      <td>2024-09-22 20:35:32</td>\n",
       "      <td>During think tank meetings with other business...</td>\n",
       "      <td>1</td>\n",
       "      <td>Is yelp fair?</td>\n",
       "      <td>['during/ADP', 'think/NOUN', 'tank/NOUN', 'mee...</td>\n",
       "      <td>['is/AUX', 'yelp/NOUN', 'fair/ADJ']</td>\n",
       "      <td>during think tank meetings with other business...</td>\n",
       "      <td>ADP NOUN NOUN NOUN ADP ADJ NOUN NOUN ADP PRON ...</td>\n",
       "      <td>is yelp fair</td>\n",
       "      <td>AUX NOUN ADJ</td>\n",
       "    </tr>\n",
       "    <tr>\n",
       "      <th>4</th>\n",
       "      <td>2024-10-24 17:15:35</td>\n",
       "      <td>Brought my 2023 car, with 15,454 miles, to hav...</td>\n",
       "      <td>1</td>\n",
       "      <td>Discount Tire - Plymouth, MN</td>\n",
       "      <td>['brought/VERB', 'my/PRON', 'car/NOUN', 'with/...</td>\n",
       "      <td>['discount/NOUN', 'tire/NOUN', 'plymouth/PROPN...</td>\n",
       "      <td>brought my car with miles to have my snow tire...</td>\n",
       "      <td>VERB PRON NOUN ADP NOUN PART VERB PRON NOUN NO...</td>\n",
       "      <td>discount tire plymouth mn</td>\n",
       "      <td>NOUN NOUN PROPN NOUN</td>\n",
       "    </tr>\n",
       "  </tbody>\n",
       "</table>\n",
       "</div>"
      ],
      "text/plain": [
       "                 date                                             review  \\\n",
       "0 2024-11-16 17:12:47  let me tell you why I named this and encouragi...   \n",
       "1 2024-11-13 19:31:04  I vaguely remember yelp being a positive exper...   \n",
       "2 2024-10-11 18:43:56  I will not be using Yelp ever again. After a t...   \n",
       "3 2024-09-22 20:35:32  During think tank meetings with other business...   \n",
       "4 2024-10-24 17:15:35  Brought my 2023 car, with 15,454 miles, to hav...   \n",
       "\n",
       "   rating                                             title  \\\n",
       "0       5                                   Encouraging App   \n",
       "1       1  Unreliable Dishonest Shady….  Let’s Cancel Yelp!   \n",
       "2       1                                          Horrible   \n",
       "3       1                                     Is yelp fair?   \n",
       "4       1                      Discount Tire - Plymouth, MN   \n",
       "\n",
       "                                      review_prepped  \\\n",
       "0  ['let/VERB', 'me/PRON', 'tell/VERB', 'you/PRON...   \n",
       "1  ['i/PRON', 'vaguely/ADV', 'remember/VERB', 'ye...   \n",
       "2  ['i/PRON', 'will/AUX', 'not/PART', 'be/AUX', '...   \n",
       "3  ['during/ADP', 'think/NOUN', 'tank/NOUN', 'mee...   \n",
       "4  ['brought/VERB', 'my/PRON', 'car/NOUN', 'with/...   \n",
       "\n",
       "                                       title_prepped  \\\n",
       "0                   ['encouraging/VERB', 'app/NOUN']   \n",
       "1  ['unreliable/ADJ', 'dishonest/INTJ', 'let/VERB...   \n",
       "2                                   ['horrible/ADJ']   \n",
       "3                ['is/AUX', 'yelp/NOUN', 'fair/ADJ']   \n",
       "4  ['discount/NOUN', 'tire/NOUN', 'plymouth/PROPN...   \n",
       "\n",
       "                                       review_tokens  \\\n",
       "0  let me tell you why i named this and encouragi...   \n",
       "1  i vaguely remember yelp being a positive exper...   \n",
       "2  i will not be using yelp ever again after a te...   \n",
       "3  during think tank meetings with other business...   \n",
       "4  brought my car with miles to have my snow tire...   \n",
       "\n",
       "                                        review_POSes  \\\n",
       "0  VERB PRON VERB PRON SCONJ PRON VERB PRON CCONJ...   \n",
       "1  PRON ADV VERB NOUN AUX DET ADJ NOUN PRON AUX A...   \n",
       "2  PRON AUX PART AUX VERB NOUN ADV ADV ADP DET AD...   \n",
       "3  ADP NOUN NOUN NOUN ADP ADJ NOUN NOUN ADP PRON ...   \n",
       "4  VERB PRON NOUN ADP NOUN PART VERB PRON NOUN NO...   \n",
       "\n",
       "                              title_tokens                   title_POSes  \n",
       "0                          encouraging app                     VERB NOUN  \n",
       "1  unreliable dishonest let us cancel yelp  ADJ INTJ VERB PRON VERB NOUN  \n",
       "2                                 horrible                           ADJ  \n",
       "3                             is yelp fair                  AUX NOUN ADJ  \n",
       "4                discount tire plymouth mn          NOUN NOUN PROPN NOUN  "
      ]
     },
     "execution_count": 2,
     "metadata": {},
     "output_type": "execute_result"
    }
   ],
   "source": [
    "# Import data and change data types\n",
    "reviews = pd.read_csv(\"reviews_prep.csv\")\n",
    "reviews = reviews.drop(['Unnamed: 0'], axis = 1)\n",
    "reviews['date'] = pd.to_datetime(reviews['date'])\n",
    "reviews['review'] = reviews['review'].astype('string')\n",
    "reviews['title'] = reviews['title'].astype('string')\n",
    "reviews['review_tokens'] = reviews['review_tokens'].astype(\"string\")\n",
    "reviews['review_POSes'] = reviews['review_POSes'].astype('string')\n",
    "reviews['title_tokens'] = reviews['title_tokens'].astype('string')\n",
    "reviews['title_POSes'] = reviews['title_POSes'].astype('string')\n",
    "reviews.head(5)"
   ]
  },
  {
   "cell_type": "code",
   "execution_count": 3,
   "id": "d946b999",
   "metadata": {},
   "outputs": [
    {
     "data": {
      "text/plain": [
       "date              datetime64[ns]\n",
       "review            string[python]\n",
       "rating                     int64\n",
       "title             string[python]\n",
       "review_prepped            object\n",
       "title_prepped             object\n",
       "review_tokens     string[python]\n",
       "review_POSes      string[python]\n",
       "title_tokens      string[python]\n",
       "title_POSes       string[python]\n",
       "dtype: object"
      ]
     },
     "execution_count": 3,
     "metadata": {},
     "output_type": "execute_result"
    }
   ],
   "source": [
    "reviews.dtypes"
   ]
  },
  {
   "cell_type": "code",
   "execution_count": 4,
   "id": "37f76cae",
   "metadata": {},
   "outputs": [
    {
     "data": {
      "image/png": "[encoded data removed]",
      "text/plain": [
       "<Figure size 640x480 with 1 Axes>"
      ]
     },
     "metadata": {},
     "output_type": "display_data"
    }
   ],
   "source": [
    "# Plot the distribution\n",
    "review_counts = reviews.groupby(['rating'])['rating'].agg(['count'])\n",
    "fig, ax = plt.subplots()\n",
    "x = review_counts.index\n",
    "y = review_counts['count']\n",
    "\n",
    "plt.bar(x, y, color = \"blue\")\n",
    "plt.xlabel('rating')\n",
    "plt.ylabel('count')\n",
    "plt.title('Rating distribution')\n",
    "plt.show()"
   ]
  },
  {
   "cell_type": "markdown",
   "id": "02f8bac8",
   "metadata": {},
   "source": [
    "### Resampling"
   ]
  },
  {
   "cell_type": "code",
   "execution_count": 5,
   "id": "13fa2ad1",
   "metadata": {},
   "outputs": [],
   "source": [
    "# Take samples from each category that's larger than the smallest category\n",
    "samp_size = len(reviews[reviews['rating'] == 4])\n",
    "random_state = 3\n",
    "t_1 = reviews[reviews['rating'] == 1].sample(n=samp_size, random_state=random_state)\n",
    "t_2 = reviews[reviews['rating'] == 2].sample(n=samp_size, random_state=random_state)\n",
    "t_3 = reviews[reviews['rating'] == 3].sample(n=samp_size, random_state=random_state)\n",
    "t_4 = reviews[reviews['rating'] == 4]\n",
    "t_5 = reviews[reviews['rating'] == 5].sample(n=samp_size, random_state=random_state)\n",
    "\n",
    "reviews_resampled = pd.concat([t_1, t_2, t_3, t_4, t_5])\n",
    "reviews_resampled.reset_index(inplace = True)"
   ]
  },
  {
   "cell_type": "code",
   "execution_count": 6,
   "id": "c79d5bb6",
   "metadata": {},
   "outputs": [
    {
     "data": {
      "image/png": "[encoded data removed]",
      "text/plain": [
       "<Figure size 640x480 with 1 Axes>"
      ]
     },
     "metadata": {},
     "output_type": "display_data"
    }
   ],
   "source": [
    "# Re-plot the distribution\n",
    "review_counts_resampled = reviews_resampled.groupby(['rating'])['rating'].agg(['count'])\n",
    "fig, ax = plt.subplots()\n",
    "x = review_counts_resampled.index\n",
    "y = review_counts_resampled['count']\n",
    "\n",
    "plt.bar(x, y, color = \"blue\")\n",
    "plt.xlabel('rating')\n",
    "plt.ylabel('count')\n",
    "plt.title('Rating distribution')\n",
    "plt.show()"
   ]
  },
  {
   "cell_type": "markdown",
   "id": "38b22853",
   "metadata": {},
   "source": [
    "We now have an equal representation from each class"
   ]
  },
  {
   "cell_type": "markdown",
   "id": "def1fb94",
   "metadata": {},
   "source": [
    "### Set up X and y"
   ]
  },
  {
   "cell_type": "code",
   "execution_count": 7,
   "id": "ce4c5848",
   "metadata": {},
   "outputs": [
    {
     "data": {
      "text/plain": [
       "0      the night before my daughter s birthday dinner...\n",
       "1      breakfast disaster twice we went first tears i...\n",
       "2      i enjoy restaurants i enjoy going out and ever...\n",
       "3      no one will see because yelp only shows their ...\n",
       "4      we were helping some friends move we were movi...\n",
       "                             ...                        \n",
       "685    i love my yelp events and the community manage...\n",
       "686    this store is not expensive this is the highes...\n",
       "687    finished the region gymnastics championships i...\n",
       "688    just wow let me start off with this place make...\n",
       "689    my sister i enjoyed lunch by sharing the dinne...\n",
       "Name: review_tokens, Length: 690, dtype: string"
      ]
     },
     "execution_count": 7,
     "metadata": {},
     "output_type": "execute_result"
    }
   ],
   "source": [
    "X = reviews_resampled['review_tokens']\n",
    "y = reviews_resampled['rating']\n",
    "X"
   ]
  },
  {
   "cell_type": "code",
   "execution_count": 8,
   "id": "271ae794",
   "metadata": {},
   "outputs": [
    {
     "data": {
      "text/plain": [
       "str"
      ]
     },
     "execution_count": 8,
     "metadata": {},
     "output_type": "execute_result"
    }
   ],
   "source": [
    "type(X[0])"
   ]
  },
  {
   "cell_type": "code",
   "execution_count": 9,
   "id": "144f47f9",
   "metadata": {},
   "outputs": [
    {
     "data": {
      "text/plain": [
       "0      1\n",
       "1      1\n",
       "2      1\n",
       "3      1\n",
       "4      1\n",
       "      ..\n",
       "685    5\n",
       "686    5\n",
       "687    5\n",
       "688    5\n",
       "689    5\n",
       "Name: rating, Length: 690, dtype: int64"
      ]
     },
     "execution_count": 9,
     "metadata": {},
     "output_type": "execute_result"
    }
   ],
   "source": [
    "y"
   ]
  },
  {
   "cell_type": "markdown",
   "id": "3dfb24a1",
   "metadata": {},
   "source": [
    "### Feature Extraction"
   ]
  },
  {
   "cell_type": "markdown",
   "id": "817fcec2",
   "metadata": {},
   "source": [
    "Count vectorizer"
   ]
  },
  {
   "cell_type": "code",
   "execution_count": 10,
   "id": "761c2971",
   "metadata": {},
   "outputs": [],
   "source": [
    "from sklearn.feature_extraction.text import CountVectorizer\n",
    "\n",
    "# Initialize the vectorizer\n",
    "cvec = CountVectorizer()\n",
    "\n",
    "# Fit and transform the training data to a sparse matrix\n",
    "cvec.fit(X)\n",
    "X_cvec = cvec.transform(X)"
   ]
  },
  {
   "cell_type": "markdown",
   "id": "fd254887",
   "metadata": {},
   "source": [
    "### Train-Test Split"
   ]
  },
  {
   "cell_type": "code",
   "execution_count": 11,
   "id": "9374ba0c",
   "metadata": {},
   "outputs": [
    {
     "data": {
      "text/plain": [
       "<690x7069 sparse matrix of type '<class 'numpy.int64'>'\n",
       "\twith 57808 stored elements in Compressed Sparse Row format>"
      ]
     },
     "execution_count": 11,
     "metadata": {},
     "output_type": "execute_result"
    }
   ],
   "source": [
    "X_cvec"
   ]
  },
  {
   "cell_type": "code",
   "execution_count": 12,
   "id": "2cc2d1aa",
   "metadata": {},
   "outputs": [
    {
     "data": {
      "text/plain": [
       "array([[0, 0, 0, ..., 0, 0, 0],\n",
       "       [0, 0, 0, ..., 0, 0, 0],\n",
       "       [0, 0, 0, ..., 0, 0, 0],\n",
       "       ...,\n",
       "       [0, 0, 0, ..., 0, 0, 0],\n",
       "       [0, 0, 0, ..., 0, 0, 0],\n",
       "       [0, 0, 0, ..., 0, 0, 0]], dtype=int64)"
      ]
     },
     "execution_count": 12,
     "metadata": {},
     "output_type": "execute_result"
    }
   ],
   "source": [
    "X_cvec.toarray()"
   ]
  },
  {
   "cell_type": "code",
   "execution_count": 13,
   "id": "fe1c8be5",
   "metadata": {},
   "outputs": [
    {
     "data": {
      "text/html": [
       "<div>\n",
       "<style scoped>\n",
       "    .dataframe tbody tr th:only-of-type {\n",
       "        vertical-align: middle;\n",
       "    }\n",
       "\n",
       "    .dataframe tbody tr th {\n",
       "        vertical-align: top;\n",
       "    }\n",
       "\n",
       "    .dataframe thead th {\n",
       "        text-align: right;\n",
       "    }\n",
       "</style>\n",
       "<table border=\"1\" class=\"dataframe\">\n",
       "  <thead>\n",
       "    <tr style=\"text-align: right;\">\n",
       "      <th></th>\n",
       "      <th>aa</th>\n",
       "      <th>aaa</th>\n",
       "      <th>aback</th>\n",
       "      <th>abc</th>\n",
       "      <th>abdominal</th>\n",
       "      <th>abe</th>\n",
       "      <th>ability</th>\n",
       "      <th>abington</th>\n",
       "      <th>able</th>\n",
       "      <th>abomination</th>\n",
       "      <th>...</th>\n",
       "      <th>yum</th>\n",
       "      <th>yuma</th>\n",
       "      <th>zagat</th>\n",
       "      <th>zain</th>\n",
       "      <th>zero</th>\n",
       "      <th>zipper</th>\n",
       "      <th>zippo</th>\n",
       "      <th>zoo</th>\n",
       "      <th>zoom</th>\n",
       "      <th>zuckers</th>\n",
       "    </tr>\n",
       "  </thead>\n",
       "  <tbody>\n",
       "    <tr>\n",
       "      <th>0</th>\n",
       "      <td>0</td>\n",
       "      <td>0</td>\n",
       "      <td>0</td>\n",
       "      <td>0</td>\n",
       "      <td>0</td>\n",
       "      <td>0</td>\n",
       "      <td>0</td>\n",
       "      <td>0</td>\n",
       "      <td>0</td>\n",
       "      <td>0</td>\n",
       "      <td>...</td>\n",
       "      <td>0</td>\n",
       "      <td>0</td>\n",
       "      <td>0</td>\n",
       "      <td>0</td>\n",
       "      <td>0</td>\n",
       "      <td>0</td>\n",
       "      <td>0</td>\n",
       "      <td>0</td>\n",
       "      <td>0</td>\n",
       "      <td>0</td>\n",
       "    </tr>\n",
       "    <tr>\n",
       "      <th>1</th>\n",
       "      <td>0</td>\n",
       "      <td>0</td>\n",
       "      <td>0</td>\n",
       "      <td>0</td>\n",
       "      <td>0</td>\n",
       "      <td>0</td>\n",
       "      <td>0</td>\n",
       "      <td>0</td>\n",
       "      <td>0</td>\n",
       "      <td>0</td>\n",
       "      <td>...</td>\n",
       "      <td>0</td>\n",
       "      <td>0</td>\n",
       "      <td>0</td>\n",
       "      <td>0</td>\n",
       "      <td>0</td>\n",
       "      <td>0</td>\n",
       "      <td>0</td>\n",
       "      <td>0</td>\n",
       "      <td>0</td>\n",
       "      <td>0</td>\n",
       "    </tr>\n",
       "    <tr>\n",
       "      <th>2</th>\n",
       "      <td>0</td>\n",
       "      <td>0</td>\n",
       "      <td>0</td>\n",
       "      <td>0</td>\n",
       "      <td>0</td>\n",
       "      <td>0</td>\n",
       "      <td>0</td>\n",
       "      <td>0</td>\n",
       "      <td>0</td>\n",
       "      <td>0</td>\n",
       "      <td>...</td>\n",
       "      <td>0</td>\n",
       "      <td>0</td>\n",
       "      <td>0</td>\n",
       "      <td>0</td>\n",
       "      <td>0</td>\n",
       "      <td>0</td>\n",
       "      <td>0</td>\n",
       "      <td>0</td>\n",
       "      <td>0</td>\n",
       "      <td>0</td>\n",
       "    </tr>\n",
       "    <tr>\n",
       "      <th>3</th>\n",
       "      <td>0</td>\n",
       "      <td>0</td>\n",
       "      <td>0</td>\n",
       "      <td>0</td>\n",
       "      <td>0</td>\n",
       "      <td>0</td>\n",
       "      <td>0</td>\n",
       "      <td>0</td>\n",
       "      <td>0</td>\n",
       "      <td>0</td>\n",
       "      <td>...</td>\n",
       "      <td>0</td>\n",
       "      <td>0</td>\n",
       "      <td>0</td>\n",
       "      <td>0</td>\n",
       "      <td>0</td>\n",
       "      <td>0</td>\n",
       "      <td>0</td>\n",
       "      <td>0</td>\n",
       "      <td>0</td>\n",
       "      <td>0</td>\n",
       "    </tr>\n",
       "    <tr>\n",
       "      <th>4</th>\n",
       "      <td>0</td>\n",
       "      <td>0</td>\n",
       "      <td>0</td>\n",
       "      <td>0</td>\n",
       "      <td>0</td>\n",
       "      <td>0</td>\n",
       "      <td>0</td>\n",
       "      <td>0</td>\n",
       "      <td>0</td>\n",
       "      <td>0</td>\n",
       "      <td>...</td>\n",
       "      <td>0</td>\n",
       "      <td>0</td>\n",
       "      <td>0</td>\n",
       "      <td>0</td>\n",
       "      <td>0</td>\n",
       "      <td>0</td>\n",
       "      <td>0</td>\n",
       "      <td>0</td>\n",
       "      <td>0</td>\n",
       "      <td>0</td>\n",
       "    </tr>\n",
       "  </tbody>\n",
       "</table>\n",
       "<p>5 rows × 7069 columns</p>\n",
       "</div>"
      ],
      "text/plain": [
       "   aa  aaa  aback  abc  abdominal  abe  ability  abington  able  abomination  \\\n",
       "0   0    0      0    0          0    0        0         0     0            0   \n",
       "1   0    0      0    0          0    0        0         0     0            0   \n",
       "2   0    0      0    0          0    0        0         0     0            0   \n",
       "3   0    0      0    0          0    0        0         0     0            0   \n",
       "4   0    0      0    0          0    0        0         0     0            0   \n",
       "\n",
       "   ...  yum  yuma  zagat  zain  zero  zipper  zippo  zoo  zoom  zuckers  \n",
       "0  ...    0     0      0     0     0       0      0    0     0        0  \n",
       "1  ...    0     0      0     0     0       0      0    0     0        0  \n",
       "2  ...    0     0      0     0     0       0      0    0     0        0  \n",
       "3  ...    0     0      0     0     0       0      0    0     0        0  \n",
       "4  ...    0     0      0     0     0       0      0    0     0        0  \n",
       "\n",
       "[5 rows x 7069 columns]"
      ]
     },
     "execution_count": 13,
     "metadata": {},
     "output_type": "execute_result"
    }
   ],
   "source": [
    "X_cvec_df = pd.DataFrame(X_cvec.toarray(), columns = cvec.get_feature_names_out())\n",
    "X_cvec_df.head(5)"
   ]
  },
  {
   "cell_type": "code",
   "execution_count": 14,
   "id": "79772903",
   "metadata": {},
   "outputs": [
    {
     "name": "stdout",
     "output_type": "stream",
     "text": [
      "Original DataFrame: \n",
      "X_cvec_df: (690, 7069)\n",
      "\n",
      "Train and test sizes:\n",
      "X_train: (483, 7069)\n",
      "X_test: (207, 7069)\n",
      "y_train: (483,)\n",
      "y_test: (207,)\n"
     ]
    }
   ],
   "source": [
    "X_train, X_test, y_train, y_test = train_test_split(X_cvec_df, y, test_size = 0.3, random_state = 1)\n",
    "\n",
    "print(f'Original DataFrame: \\nX_cvec_df: {X_cvec_df.shape}\\n')\n",
    "\n",
    "print('Train and test sizes:')\n",
    "print(f'X_train: {X_train.shape}')\n",
    "print(f'X_test: {X_test.shape}')\n",
    "print(f'y_train: {y_train.shape}')\n",
    "print(f'y_test: {y_test.shape}')"
   ]
  },
  {
   "cell_type": "markdown",
   "id": "512d0a07",
   "metadata": {},
   "source": [
    "### Train and Evaluate An Initial Random Forest Model"
   ]
  },
  {
   "cell_type": "code",
   "execution_count": 15,
   "id": "550f0737",
   "metadata": {},
   "outputs": [],
   "source": [
    "# Initialize a random forest model\n",
    "rf_mdl = RandomForestClassifier(random_state = 1)\n",
    "\n",
    "# Fit the model (solve the for the weights)\n",
    "rf_mdl.fit(X_train, y_train)\n",
    "\n",
    "# Make predictions on the test data\n",
    "y_pred = rf_mdl.predict(X_test)"
   ]
  },
  {
   "cell_type": "code",
   "execution_count": 16,
   "id": "c96a30b4",
   "metadata": {},
   "outputs": [
    {
     "data": {
      "image/png": "[encoded data removed]",
      "text/plain": [
       "<Figure size 640x480 with 2 Axes>"
      ]
     },
     "metadata": {},
     "output_type": "display_data"
    }
   ],
   "source": [
    "# Create a confusion matrix\n",
    "conf_mat = confusion_matrix(y_test, y_pred, labels = rf_mdl.classes_)\n",
    "\n",
    "# Create a confusion matrix visualization\n",
    "disp = ConfusionMatrixDisplay(confusion_matrix = conf_mat, display_labels = rf_mdl.classes_)\n",
    "disp.plot()\n",
    "plt.title('Initial RF Model Confusion Matrix')\n",
    "plt.show()"
   ]
  },
  {
   "cell_type": "markdown",
   "id": "5dc750f0",
   "metadata": {},
   "source": [
    "Classification report"
   ]
  },
  {
   "cell_type": "code",
   "execution_count": 17,
   "id": "af142f8a",
   "metadata": {},
   "outputs": [
    {
     "name": "stdout",
     "output_type": "stream",
     "text": [
      "              precision    recall  f1-score   support\n",
      "\n",
      "           1       0.78      0.35      0.48        52\n",
      "           2       0.26      0.52      0.34        33\n",
      "           3       0.29      0.24      0.26        38\n",
      "           4       0.34      0.22      0.27        45\n",
      "           5       0.53      0.79      0.64        39\n",
      "\n",
      "    accuracy                           0.41       207\n",
      "   macro avg       0.44      0.42      0.40       207\n",
      "weighted avg       0.47      0.41      0.40       207\n",
      "\n"
     ]
    }
   ],
   "source": [
    "print(classification_report(y_test, y_pred, labels = rf_mdl.classes_))"
   ]
  },
  {
   "cell_type": "markdown",
   "id": "94c7b7da",
   "metadata": {},
   "source": [
    "Overall, this model's performance is poor, because it's accuracy is 41 percent. Delving deeper, we see that for classes 2, 3, 4, and 5, the model's predictions are all over the place. The capture of true positives is also poor across classes 1, 2, 3, and 4. On the positive side, predictions for class 1 were mostly correct, and the capture for class 5 was mostly correct. However, taking performance overall, the model did not do well. Thus, more features should be engineered to capture more meaning, and possibly a re-distribution of the labels."
   ]
  },
  {
   "cell_type": "markdown",
   "id": "f5310215",
   "metadata": {},
   "source": [
    "## Re build the model but just use title tokens instead"
   ]
  },
  {
   "cell_type": "markdown",
   "id": "2015e453",
   "metadata": {},
   "source": [
    "Let's see if the model's metrics improve by using tokens only from the title instead"
   ]
  },
  {
   "cell_type": "markdown",
   "id": "f8e6bb64",
   "metadata": {},
   "source": [
    "### Set up X and y"
   ]
  },
  {
   "cell_type": "markdown",
   "id": "cf66671a",
   "metadata": {},
   "source": [
    "We will use X2 and y2 for this to keep things separate"
   ]
  },
  {
   "cell_type": "code",
   "execution_count": 31,
   "id": "a4ed172b",
   "metadata": {},
   "outputs": [
    {
     "data": {
      "text/plain": [
       "0                                  cancelled reservation\n",
       "1                         bonefish grill williamsburg va\n",
       "2                      look for reviews elsewhere people\n",
       "3                                   no one will see this\n",
       "4                    good tears in my eyes moving do not\n",
       "                             ...                        \n",
       "685                                       foodies unites\n",
       "686    do not believe the expensive fake reviews laug...\n",
       "687                                   gymnastics special\n",
       "688                                       love love love\n",
       "689                                       delicious food\n",
       "Name: title_tokens, Length: 690, dtype: string"
      ]
     },
     "execution_count": 31,
     "metadata": {},
     "output_type": "execute_result"
    }
   ],
   "source": [
    "X2 = reviews_resampled['title_tokens']\n",
    "y2 = reviews_resampled['rating']\n",
    "X2"
   ]
  },
  {
   "cell_type": "markdown",
   "id": "19d95bb0",
   "metadata": {},
   "source": [
    "### Feature Extraction"
   ]
  },
  {
   "cell_type": "markdown",
   "id": "2efd977d",
   "metadata": {},
   "source": [
    "Check for NaNs in the titles"
   ]
  },
  {
   "cell_type": "code",
   "execution_count": 34,
   "id": "364f1b15",
   "metadata": {},
   "outputs": [
    {
     "data": {
      "text/plain": [
       "60     <NA>\n",
       "95     <NA>\n",
       "129    <NA>\n",
       "136    <NA>\n",
       "150    <NA>\n",
       "241    <NA>\n",
       "454    <NA>\n",
       "Name: title_tokens, dtype: string"
      ]
     },
     "execution_count": 34,
     "metadata": {},
     "output_type": "execute_result"
    }
   ],
   "source": [
    "X2[X2.isna()]"
   ]
  },
  {
   "cell_type": "markdown",
   "id": "4d3469a1",
   "metadata": {},
   "source": [
    "Since there are only 7 NaNs in the dataset and there isn't anything that you can replace them with, it would be best to drop them from the dataset here."
   ]
  },
  {
   "cell_type": "code",
   "execution_count": 36,
   "id": "5c314d49",
   "metadata": {},
   "outputs": [],
   "source": [
    "# Store the NaNs so that they can be dropped from both X and Y\n",
    "NaN_indices = X2[X2.isna()].index\n",
    "\n",
    "# Drop them from X and Y\n",
    "X2 = X2.drop(NaN_indices)\n",
    "y2 = y2.drop(NaN_indices)"
   ]
  },
  {
   "cell_type": "markdown",
   "id": "792d1ec7",
   "metadata": {},
   "source": [
    "Count Vectorizer"
   ]
  },
  {
   "cell_type": "code",
   "execution_count": 40,
   "id": "7a4079f7",
   "metadata": {},
   "outputs": [],
   "source": [
    "# Initialize the vectorizer\n",
    "cvec2 = CountVectorizer()\n",
    "\n",
    "# Fit and transform the training data to a sparse matrix\n",
    "cvec2.fit(X2)\n",
    "X_cvec2 = cvec2.transform(X2)"
   ]
  },
  {
   "cell_type": "code",
   "execution_count": 41,
   "id": "2acfa34a",
   "metadata": {},
   "outputs": [
    {
     "data": {
      "text/html": [
       "<div>\n",
       "<style scoped>\n",
       "    .dataframe tbody tr th:only-of-type {\n",
       "        vertical-align: middle;\n",
       "    }\n",
       "\n",
       "    .dataframe tbody tr th {\n",
       "        vertical-align: top;\n",
       "    }\n",
       "\n",
       "    .dataframe thead th {\n",
       "        text-align: right;\n",
       "    }\n",
       "</style>\n",
       "<table border=\"1\" class=\"dataframe\">\n",
       "  <thead>\n",
       "    <tr style=\"text-align: right;\">\n",
       "      <th></th>\n",
       "      <th>abigails</th>\n",
       "      <th>about</th>\n",
       "      <th>absolute</th>\n",
       "      <th>absolutely</th>\n",
       "      <th>accessible</th>\n",
       "      <th>account</th>\n",
       "      <th>across</th>\n",
       "      <th>activist</th>\n",
       "      <th>actually</th>\n",
       "      <th>acute</th>\n",
       "      <th>...</th>\n",
       "      <th>yelping</th>\n",
       "      <th>yelpuser</th>\n",
       "      <th>yes</th>\n",
       "      <th>yet</th>\n",
       "      <th>you</th>\n",
       "      <th>your</th>\n",
       "      <th>yum</th>\n",
       "      <th>yuma</th>\n",
       "      <th>zero</th>\n",
       "      <th>zin</th>\n",
       "    </tr>\n",
       "  </thead>\n",
       "  <tbody>\n",
       "    <tr>\n",
       "      <th>0</th>\n",
       "      <td>0</td>\n",
       "      <td>0</td>\n",
       "      <td>0</td>\n",
       "      <td>0</td>\n",
       "      <td>0</td>\n",
       "      <td>0</td>\n",
       "      <td>0</td>\n",
       "      <td>0</td>\n",
       "      <td>0</td>\n",
       "      <td>0</td>\n",
       "      <td>...</td>\n",
       "      <td>0</td>\n",
       "      <td>0</td>\n",
       "      <td>0</td>\n",
       "      <td>0</td>\n",
       "      <td>0</td>\n",
       "      <td>0</td>\n",
       "      <td>0</td>\n",
       "      <td>0</td>\n",
       "      <td>0</td>\n",
       "      <td>0</td>\n",
       "    </tr>\n",
       "    <tr>\n",
       "      <th>1</th>\n",
       "      <td>0</td>\n",
       "      <td>0</td>\n",
       "      <td>0</td>\n",
       "      <td>0</td>\n",
       "      <td>0</td>\n",
       "      <td>0</td>\n",
       "      <td>0</td>\n",
       "      <td>0</td>\n",
       "      <td>0</td>\n",
       "      <td>0</td>\n",
       "      <td>...</td>\n",
       "      <td>0</td>\n",
       "      <td>0</td>\n",
       "      <td>0</td>\n",
       "      <td>0</td>\n",
       "      <td>0</td>\n",
       "      <td>0</td>\n",
       "      <td>0</td>\n",
       "      <td>0</td>\n",
       "      <td>0</td>\n",
       "      <td>0</td>\n",
       "    </tr>\n",
       "    <tr>\n",
       "      <th>2</th>\n",
       "      <td>0</td>\n",
       "      <td>0</td>\n",
       "      <td>0</td>\n",
       "      <td>0</td>\n",
       "      <td>0</td>\n",
       "      <td>0</td>\n",
       "      <td>0</td>\n",
       "      <td>0</td>\n",
       "      <td>0</td>\n",
       "      <td>0</td>\n",
       "      <td>...</td>\n",
       "      <td>0</td>\n",
       "      <td>0</td>\n",
       "      <td>0</td>\n",
       "      <td>0</td>\n",
       "      <td>0</td>\n",
       "      <td>0</td>\n",
       "      <td>0</td>\n",
       "      <td>0</td>\n",
       "      <td>0</td>\n",
       "      <td>0</td>\n",
       "    </tr>\n",
       "    <tr>\n",
       "      <th>3</th>\n",
       "      <td>0</td>\n",
       "      <td>0</td>\n",
       "      <td>0</td>\n",
       "      <td>0</td>\n",
       "      <td>0</td>\n",
       "      <td>0</td>\n",
       "      <td>0</td>\n",
       "      <td>0</td>\n",
       "      <td>0</td>\n",
       "      <td>0</td>\n",
       "      <td>...</td>\n",
       "      <td>0</td>\n",
       "      <td>0</td>\n",
       "      <td>0</td>\n",
       "      <td>0</td>\n",
       "      <td>0</td>\n",
       "      <td>0</td>\n",
       "      <td>0</td>\n",
       "      <td>0</td>\n",
       "      <td>0</td>\n",
       "      <td>0</td>\n",
       "    </tr>\n",
       "    <tr>\n",
       "      <th>4</th>\n",
       "      <td>0</td>\n",
       "      <td>0</td>\n",
       "      <td>0</td>\n",
       "      <td>0</td>\n",
       "      <td>0</td>\n",
       "      <td>0</td>\n",
       "      <td>0</td>\n",
       "      <td>0</td>\n",
       "      <td>0</td>\n",
       "      <td>0</td>\n",
       "      <td>...</td>\n",
       "      <td>0</td>\n",
       "      <td>0</td>\n",
       "      <td>0</td>\n",
       "      <td>0</td>\n",
       "      <td>0</td>\n",
       "      <td>0</td>\n",
       "      <td>0</td>\n",
       "      <td>0</td>\n",
       "      <td>0</td>\n",
       "      <td>0</td>\n",
       "    </tr>\n",
       "  </tbody>\n",
       "</table>\n",
       "<p>5 rows × 1229 columns</p>\n",
       "</div>"
      ],
      "text/plain": [
       "   abigails  about  absolute  absolutely  accessible  account  across  \\\n",
       "0         0      0         0           0           0        0       0   \n",
       "1         0      0         0           0           0        0       0   \n",
       "2         0      0         0           0           0        0       0   \n",
       "3         0      0         0           0           0        0       0   \n",
       "4         0      0         0           0           0        0       0   \n",
       "\n",
       "   activist  actually  acute  ...  yelping  yelpuser  yes  yet  you  your  \\\n",
       "0         0         0      0  ...        0         0    0    0    0     0   \n",
       "1         0         0      0  ...        0         0    0    0    0     0   \n",
       "2         0         0      0  ...        0         0    0    0    0     0   \n",
       "3         0         0      0  ...        0         0    0    0    0     0   \n",
       "4         0         0      0  ...        0         0    0    0    0     0   \n",
       "\n",
       "   yum  yuma  zero  zin  \n",
       "0    0     0     0    0  \n",
       "1    0     0     0    0  \n",
       "2    0     0     0    0  \n",
       "3    0     0     0    0  \n",
       "4    0     0     0    0  \n",
       "\n",
       "[5 rows x 1229 columns]"
      ]
     },
     "execution_count": 41,
     "metadata": {},
     "output_type": "execute_result"
    }
   ],
   "source": [
    "X2_cvec_df = pd.DataFrame(X_cvec2.toarray(), columns = cvec2.get_feature_names_out())\n",
    "X2_cvec_df.head(5)"
   ]
  },
  {
   "cell_type": "markdown",
   "id": "daf94338",
   "metadata": {},
   "source": [
    "### Train-Test Split"
   ]
  },
  {
   "cell_type": "code",
   "execution_count": 42,
   "id": "ebab3642",
   "metadata": {},
   "outputs": [
    {
     "name": "stdout",
     "output_type": "stream",
     "text": [
      "Original DataFrame: \n",
      "X_cvec_df: (683, 1229)\n",
      "\n",
      "Train and test sizes:\n",
      "X_train: (478, 1229)\n",
      "X_test: (205, 1229)\n",
      "y_train: (478,)\n",
      "y_test: (205,)\n"
     ]
    }
   ],
   "source": [
    "X2_train, X2_test, y2_train, y2_test = train_test_split(X2_cvec_df, y2, test_size = 0.3, random_state = 1)\n",
    "\n",
    "print(f'Original DataFrame: \\nX_cvec_df: {X2_cvec_df.shape}\\n')\n",
    "\n",
    "print('Train and test sizes:')\n",
    "print(f'X_train: {X2_train.shape}')\n",
    "print(f'X_test: {X2_test.shape}')\n",
    "print(f'y_train: {y2_train.shape}')\n",
    "print(f'y_test: {y2_test.shape}')"
   ]
  },
  {
   "cell_type": "markdown",
   "id": "9b7c00be",
   "metadata": {},
   "source": [
    "### Train and Evaluate Second Random Forest Model"
   ]
  },
  {
   "cell_type": "code",
   "execution_count": 46,
   "id": "9e4c4586",
   "metadata": {},
   "outputs": [],
   "source": [
    "rf_mdl2 = RandomForestClassifier(random_state = 1)\n",
    "\n",
    "# Fit the model\n",
    "rf_mdl2.fit(X2_train, y2_train)\n",
    "\n",
    "# Make predictions on the test data\n",
    "y2_pred = rf_mdl2.predict(X2_test)"
   ]
  },
  {
   "cell_type": "code",
   "execution_count": 50,
   "id": "d5e3a07c",
   "metadata": {},
   "outputs": [
    {
     "data": {
      "image/png": "[encoded data removed]",
      "text/plain": [
       "<Figure size 640x480 with 2 Axes>"
      ]
     },
     "metadata": {},
     "output_type": "display_data"
    }
   ],
   "source": [
    "# Create a confusion matrix\n",
    "conf_mat2 = confusion_matrix(y2_test, y2_pred, labels = rf_mdl2.classes_)\n",
    "\n",
    "# Create a confusion matrix visualization\n",
    "disp = ConfusionMatrixDisplay(confusion_matrix = conf_mat2, display_labels = rf_mdl2.classes_)\n",
    "disp.plot()\n",
    "plt.title('RF Model Using Title Tokens Confusion Matrix')\n",
    "plt.show()"
   ]
  },
  {
   "cell_type": "code",
   "execution_count": 51,
   "id": "441eeeed",
   "metadata": {},
   "outputs": [
    {
     "name": "stdout",
     "output_type": "stream",
     "text": [
      "              precision    recall  f1-score   support\n",
      "\n",
      "           1       0.39      0.20      0.27        44\n",
      "           2       0.18      0.21      0.20        33\n",
      "           3       0.28      0.19      0.23        47\n",
      "           4       0.20      0.20      0.20        40\n",
      "           5       0.20      0.34      0.25        41\n",
      "\n",
      "    accuracy                           0.23       205\n",
      "   macro avg       0.25      0.23      0.23       205\n",
      "weighted avg       0.26      0.23      0.23       205\n",
      "\n"
     ]
    }
   ],
   "source": [
    "print(classification_report(y2_test, y2_pred, labels = rf_mdl.classes_))"
   ]
  },
  {
   "cell_type": "markdown",
   "id": "4f18589d",
   "metadata": {},
   "source": [
    "Turns out that this model is worse than the previous one, despite my initial assumption!"
   ]
  }
 ],
 "metadata": {
  "kernelspec": {
   "display_name": "Python 3 (ipykernel)",
   "language": "python",
   "name": "python3"
  },
  "language_info": {
   "codemirror_mode": {
    "name": "ipython",
    "version": 3
   },
   "file_extension": ".py",
   "mimetype": "text/x-python",
   "name": "python",
   "nbconvert_exporter": "python",
   "pygments_lexer": "ipython3",
   "version": "3.9.19"
  }
 },
 "nbformat": 4,
 "nbformat_minor": 5
}
